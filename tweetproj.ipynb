{
 "cells": [
  {
   "cell_type": "markdown",
   "metadata": {},
   "source": [
    "## Twitter Authentication\n",
    "\n",
    "In order to access Twitter API you need credentials.  For best practices, I stored my authenticators in a .env file and call it below."
   ]
  },
  {
   "cell_type": "code",
   "execution_count": 17,
   "metadata": {
    "scrolled": true
   },
   "outputs": [],
   "source": [
    "import os\n",
    "from dotenv import load_dotenv \n",
    "project_folder = os.path.expanduser('~/PythonProjects/twitter_project')\n",
    "load_dotenv(os.path.join(project_folder, 'twitterAuth.env'))\n",
    "\n",
    "access_token = os.environ.get(\"ACCESS_TOKEN\")\n",
    "access_token_secret = os.environ.get(\"ACCESS_TOKEN_SECRET\")\n",
    "consumer_key = os.environ.get(\"CONSUMER_KEY\")\n",
    "consumer_secret = os.environ.get(\"CONSUMER_SECRET\")"
   ]
  },
  {
   "cell_type": "code",
   "execution_count": 18,
   "metadata": {},
   "outputs": [
    {
     "name": "stdout",
     "output_type": "stream",
     "text": [
      "RT @ConflictGHD: Thank you to @AwkwrdlyAnmated for supporting me and gifting me this Q11K wireless Graphics Tablet 🙏🏽 definitely up to many…\n",
      "OH HELL NO https://t.co/g0RttZzV8f\n",
      "RT @laceyduke: New video I directed for @IAMSUMMERWALKER ☀️🌊🤍 #body https://t.co/8Exe07jNc1\n",
      "email is short for entertaining mail\n",
      "China's Geely to help bankroll Faraday Future SPAC deal: sources https://t.co/7MfosIaguW https://t.co/TU9GY3OpBk\n",
      "U.S. stocks suffered their biggest one-day percentage drop in three months. All three major indexes were pressured… https://t.co/Fcv9ns4nH6\n",
      "RT @VeronicaJArt: Imagine not comping Shonda Rhimes an amusement park pass and then watching this happen after she leaves your network.\n",
      "we let him outside to see if he might go home and he ran off but then he came back less than a couple minutes later… https://t.co/Ic4FrGU86N\n",
      "During the pandemic, thousands of women have skipped scans and check-ups. So physicians tapped an algorithm to pred… https://t.co/6k9Hx3cDia\n",
      "RT @newburycomics: New NC Exclusive Records!\n",
      "\n",
      "The Spill Canvas 'Conduit' on Deep Cloudy Purple Vinyl, LTD/300 (out 3/5) and 2 versions of '…\n",
      "https://t.co/QbA7YjzZzS\n",
      "RT @Annie_Dro: Took another win against @eUnited !\n",
      "We advance despite every Redditors expert opinion 🤓\n",
      "RT @thenoelmiller: self help gurus today https://t.co/bh2z2IEcFX\n",
      "RT @katsumiFPS: 2-1 vs @eUnited and we go again tomorrow in VCT 😋\n",
      "This being better than cathyyys music  https://t.co/8hk0a7GnJD\n",
      "RT @mel_anji: Won 2-1 vs @eUnited, close fking games their sheriffs are INSANE\n",
      "\n",
      "doubters out!\n",
      "RT @alexismarieNY: beat eunited 2-1 🤠 gg's, we play XSET tomorrow!\n",
      "#C9WHITE take the 2-1 #C9WIN over @eUnited to advance further in the first open qualifier of #VALORANTChallengers!… https://t.co/AobwcYBNHY\n",
      "It's a pretty special place https://t.co/v5jMjOnWr9\n",
      "Coronavirus: EU and AstraZeneca seek to resolve vaccine supply crisis https://t.co/AofpCPeH2X\n"
     ]
    }
   ],
   "source": [
    "import tweepy\n",
    "\n",
    "auth = tweepy.OAuthHandler(consumer_key, consumer_secret)\n",
    "auth.set_access_token(access_token, access_token_secret)\n",
    "\n",
    "api = tweepy.API(auth)\n",
    "\n",
    "public_tweets = api.home_timeline()\n",
    "for tweet in public_tweets:\n",
    "    print(tweet.text)"
   ]
  },
  {
   "cell_type": "code",
   "execution_count": 13,
   "metadata": {},
   "outputs": [
    {
     "ename": "NameError",
     "evalue": "name 'subprocess' is not defined",
     "output_type": "error",
     "traceback": [
      "\u001b[1;31m---------------------------------------------------------------------------\u001b[0m",
      "\u001b[1;31mNameError\u001b[0m                                 Traceback (most recent call last)",
      "\u001b[1;32m<ipython-input-13-1b8658e64a68>\u001b[0m in \u001b[0;36m<module>\u001b[1;34m\u001b[0m\n\u001b[1;32m----> 1\u001b[1;33m \u001b[0msubprocess\u001b[0m\u001b[1;33m.\u001b[0m\u001b[0mcall\u001b[0m\u001b[1;33m(\u001b[0m\u001b[1;34m\"./settings.sh\"\u001b[0m\u001b[1;33m,\u001b[0m \u001b[0mshell\u001b[0m \u001b[1;33m=\u001b[0m \u001b[1;32mTrue\u001b[0m\u001b[1;33m)\u001b[0m\u001b[1;33m\u001b[0m\u001b[1;33m\u001b[0m\u001b[0m\n\u001b[0m",
      "\u001b[1;31mNameError\u001b[0m: name 'subprocess' is not defined"
     ]
    }
   ],
   "source": []
  },
  {
   "cell_type": "code",
   "execution_count": null,
   "metadata": {},
   "outputs": [],
   "source": []
  }
 ],
 "metadata": {
  "kernelspec": {
   "display_name": "Python 3",
   "language": "python",
   "name": "python3"
  },
  "language_info": {
   "codemirror_mode": {
    "name": "ipython",
    "version": 3
   },
   "file_extension": ".py",
   "mimetype": "text/x-python",
   "name": "python",
   "nbconvert_exporter": "python",
   "pygments_lexer": "ipython3",
   "version": "3.8.3"
  }
 },
 "nbformat": 4,
 "nbformat_minor": 5
}
